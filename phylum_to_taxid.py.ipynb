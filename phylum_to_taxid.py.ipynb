{
 "cells": [
  {
   "cell_type": "code",
   "execution_count": null,
   "metadata": {},
   "outputs": [],
   "source": [
    "# convert families to taxids\n",
    "taxids = []\n",
    "for family in mgv_families[1:]:\n",
    "    taxid = ncbi.get_name_translator([family])\n",
    "    taxids.append(taxid)"
   ]
  },
  {
   "cell_type": "code",
   "execution_count": 1,
   "metadata": {},
   "outputs": [
    {
     "name": "stderr",
     "output_type": "stream",
     "text": [
      "NCBI database not present yet (first time used?)\n",
      "Downloading taxdump.tar.gz from NCBI FTP site (via HTTP)...\n",
      "Done. Parsing...\n"
     ]
    },
    {
     "name": "stdout",
     "output_type": "stream",
     "text": [
      "Loading node names...\n",
      "2426563 names loaded.\n",
      "279071 synonyms loaded.\n",
      "Loading nodes...\n",
      "2426563 nodes loaded.\n",
      "Linking nodes...\n",
      "Tree is loaded.\n",
      "Updating database: /Users/margotlavitt/.etetoolkit/taxa.sqlite ...\n",
      " 2426000 generating entries... "
     ]
    },
    {
     "name": "stderr",
     "output_type": "stream",
     "text": [
      "Inserting synonyms:      20000 "
     ]
    },
    {
     "name": "stdout",
     "output_type": "stream",
     "text": [
      "\n",
      "Uploading to /Users/margotlavitt/.etetoolkit/taxa.sqlite\n",
      "\n"
     ]
    },
    {
     "name": "stderr",
     "output_type": "stream",
     "text": [
      "Inserting taxid merges:  35000  "
     ]
    },
    {
     "name": "stdout",
     "output_type": "stream",
     "text": [
      "\n"
     ]
    },
    {
     "name": "stderr",
     "output_type": "stream",
     "text": [
      "Inserting taxids:       20000  "
     ]
    },
    {
     "name": "stdout",
     "output_type": "stream",
     "text": [
      "\n"
     ]
    },
    {
     "name": "stderr",
     "output_type": "stream",
     "text": [
      "Inserting taxids:       2425000 "
     ]
    },
    {
     "name": "stdout",
     "output_type": "stream",
     "text": [
      "\n"
     ]
    },
    {
     "name": "stderr",
     "output_type": "stream",
     "text": [
      "Local taxdump.tar.gz seems up-to-date\n"
     ]
    },
    {
     "name": "stdout",
     "output_type": "stream",
     "text": [
      "Loading node names...\n",
      "2426563 names loaded.\n",
      "279071 synonyms loaded.\n",
      "Loading nodes...\n",
      "2426563 nodes loaded.\n",
      "Linking nodes...\n",
      "Tree is loaded.\n",
      "Updating database: /Users/margotlavitt/.etetoolkit/taxa.sqlite ...\n",
      " 2426000 generating entries...  generating entries... \n",
      "Uploading to /Users/margotlavitt/.etetoolkit/taxa.sqlite\n"
     ]
    },
    {
     "name": "stderr",
     "output_type": "stream",
     "text": [
      "Inserting synonyms:      20000 "
     ]
    },
    {
     "name": "stdout",
     "output_type": "stream",
     "text": [
      "\n"
     ]
    },
    {
     "name": "stderr",
     "output_type": "stream",
     "text": [
      "Inserting taxid merges:  45000  "
     ]
    },
    {
     "name": "stdout",
     "output_type": "stream",
     "text": [
      "\n"
     ]
    },
    {
     "name": "stderr",
     "output_type": "stream",
     "text": [
      "Inserting taxids:       25000  "
     ]
    },
    {
     "name": "stdout",
     "output_type": "stream",
     "text": [
      "\n"
     ]
    },
    {
     "name": "stderr",
     "output_type": "stream",
     "text": [
      "Inserting taxids:       2425000 "
     ]
    },
    {
     "name": "stdout",
     "output_type": "stream",
     "text": [
      "\n"
     ]
    }
   ],
   "source": [
    "# Biopython to parse fasta files\n",
    "from Bio import SeqIO\n",
    "# pandas is for dataframes\n",
    "import pandas as pd\n",
    "# ete3 to convert from lineage to taxid (and vice versa)\n",
    "from ete3 import NCBITaxa\n",
    "ncbi = NCBITaxa()\n",
    "ncbi.update_taxonomy_database()"
   ]
  },
  {
   "cell_type": "code",
   "execution_count": 2,
   "metadata": {},
   "outputs": [
    {
     "name": "stdout",
     "output_type": "stream",
     "text": [
      "  % Total    % Received % Xferd  Average Speed   Time    Time     Time  Current\n",
      "                                 Dload  Upload   Total   Spent    Left  Speed\n",
      "100 21.2M  100 21.2M    0     0  11.6M      0  0:00:01  0:00:01 --:--:-- 11.6M\n"
     ]
    }
   ],
   "source": [
    "# Download metadata file\n",
    "# shell command\n",
    "!curl -o  /Users/margotlavitt/resources/virusdb/mgv_metadata.tsv https://portal.nersc.gov/MGV/MGV_v1.0_2021_07_08/mgv_contig_info.tsv"
   ]
  },
  {
   "cell_type": "code",
   "execution_count": 50,
   "metadata": {},
   "outputs": [],
   "source": [
    "### convert each taxid in metadata to a lineage ###\n",
    "# load mgv metadata\n",
    "mgv_metadata= pd.read_csv('/Users/margotlavitt/resources/virusdb/mgv_metadata.tsv',\n",
    "sep='\\t')\n",
    "mgv_metadata['ictv_family'] = mgv_metadata.apply(lambda x: x.ictv_family if x.ictv_family != 'crAss-phage' else 'uncultured crAssphage', axis = 1)\n",
    "mgv_families = list(set(mgv_metadata['ictv_family']))"
   ]
  },
  {
   "cell_type": "code",
   "execution_count": 51,
   "metadata": {},
   "outputs": [],
   "source": [
    "# convert families to taxids\n",
    "taxids = []\n",
    "for family in mgv_families[1:]:\n",
    "    taxid = ncbi.get_name_translator([family])\n",
    "    taxids.append(taxid)"
   ]
  },
  {
   "cell_type": "code",
   "execution_count": 52,
   "metadata": {},
   "outputs": [],
   "source": [
    "# flatten list of dictionaries\n",
    "taxids_dict = {}\n",
    "for dictionary in taxids:\n",
    "    taxids_dict.update(dictionary)"
   ]
  },
  {
   "cell_type": "code",
   "execution_count": 53,
   "metadata": {},
   "outputs": [],
   "source": [
    "mgv_metadata['taxid'] = mgv_metadata['ictv_family'].map(taxids_dict)"
   ]
  },
  {
   "cell_type": "code",
   "execution_count": 56,
   "metadata": {},
   "outputs": [],
   "source": [
    "#parse through fasta file\n",
    "contig_to_taxid = mgv_metadata.set_index('contig_id').to_dict()['taxid']\n",
    "new_mgv_sequences = []\n",
    "for record in SeqIO.parse('/Users/margotlavitt/resources/virusdb/combined.fasta', \"fasta\"):\n",
    "    updated_id = str(contig_to_taxid[record.id]).removeprefix('[').removesuffix(']')\n",
    "    record.id = str(record.id) + '|kraken:taxid|' + updated_id\n",
    "    new_mgv_sequences.append(record)"
   ]
  },
  {
   "cell_type": "code",
   "execution_count": 57,
   "metadata": {},
   "outputs": [
    {
     "data": {
      "text/plain": [
       "54118"
      ]
     },
     "execution_count": 57,
     "metadata": {},
     "output_type": "execute_result"
    }
   ],
   "source": [
    "SeqIO.write(new_mgv_sequences, \"/Users/margotlavitt/resources/virusdb/kraken_formatted_mgv.fasta\", \"fasta\")"
   ]
  },
  {
   "cell_type": "code",
   "execution_count": null,
   "metadata": {},
   "outputs": [],
   "source": []
  }
 ],
 "metadata": {
  "kernelspec": {
   "display_name": "Python 3.9.12 ('base': conda)",
   "language": "python",
   "name": "python3"
  },
  "language_info": {
   "codemirror_mode": {
    "name": "ipython",
    "version": 3
   },
   "file_extension": ".py",
   "mimetype": "text/x-python",
   "name": "python",
   "nbconvert_exporter": "python",
   "pygments_lexer": "ipython3",
   "version": "3.9.12"
  },
  "orig_nbformat": 4,
  "vscode": {
   "interpreter": {
    "hash": "3645b3519381a290cde5c66d9f757514bd40da017d6bffffad972fa770173037"
   }
  }
 },
 "nbformat": 4,
 "nbformat_minor": 2
}
